{
  "cells": [
    {
      "cell_type": "markdown",
      "metadata": {
        "id": "view-in-github",
        "colab_type": "text"
      },
      "source": [
        "<a href=\"https://colab.research.google.com/github/aichampionslearn/aichampionslearn/blob/main/eda_15_years_of_power_outage.ipynb\" target=\"_parent\"><img src=\"https://colab.research.google.com/assets/colab-badge.svg\" alt=\"Open In Colab\"/></a>"
      ]
    },
    {
      "metadata": {
        "_uuid": "d690ea4732e454396adcef2c6e899b326f4f3922",
        "id": "Ec6G584kCj-6"
      },
      "cell_type": "markdown",
      "source": [
        "# EDA: 15 Years of Power Outage"
      ]
    },
    {
      "metadata": {
        "_uuid": "652431ebdf3e1ac253c8881dbe3b872ad63faa80",
        "id": "8xD2LtkcCj-8"
      },
      "cell_type": "markdown",
      "source": [
        "* Title: 15 Years Of Power Outages\n",
        "\n",
        "* Objective: Predict attrition of your valuable employees\n",
        "\n",
        "* Kaggle link: https://www.kaggle.com/autunno/15-years-of-power-outages\n",
        "\n",
        "* Inspired by: http://insideenergy.org/2014/08/18/data-explore-15-years-of-power-outages/#comment-3862651149\n",
        "\n",
        "This notebook aims to make an EDA (Exploratory Data Analysis) on 15 years of outage to find out the features' relations and to prepare the ground for a Machine Learning model to predict the cause."
      ]
    },
    {
      "metadata": {
        "ExecuteTime": {
          "end_time": "2018-04-20T16:15:12.671714Z",
          "start_time": "2018-04-20T16:15:12.670714Z"
        },
        "_uuid": "8ccdaf77b81bdab84f3790c38b1425f24bb850e3",
        "id": "ItgfteEgCj-8"
      },
      "cell_type": "markdown",
      "source": [
        "# How  this notebook is organized"
      ]
    },
    {
      "metadata": {
        "ExecuteTime": {
          "end_time": "2018-04-20T16:15:29.991573Z",
          "start_time": "2018-04-20T16:15:29.980573Z"
        },
        "_uuid": "3fcfe972654f79a3f3c5ab103fa1ed19a2b01193",
        "id": "nywLdDUqCj-8"
      },
      "cell_type": "markdown",
      "source": [
        "1. [Data pre-processing](#1.-Data-pre-processing)\n",
        "2. [Data analysis](#2.-Data-analysis)"
      ]
    },
    {
      "metadata": {
        "_uuid": "8b5cb7a5f3404fd986172a148a4f657123c40659",
        "id": "CUSYfg0ACj-9"
      },
      "cell_type": "markdown",
      "source": [
        "# 1. Data pre-processing"
      ]
    },
    {
      "metadata": {
        "_uuid": "7d0e3b8bba9abb91ce074acb51a4b0d51131a440",
        "id": "8LcqRMaMCj-9"
      },
      "cell_type": "markdown",
      "source": [
        "We start by importing all the libraries we're going to use:"
      ]
    },
    {
      "metadata": {
        "ExecuteTime": {
          "end_time": "2018-04-20T20:10:44.044209Z",
          "start_time": "2018-04-20T20:10:39.056209Z"
        },
        "collapsed": true,
        "trusted": true,
        "_uuid": "a352a0689354f8620998acc5d6859b2c6670bc7c",
        "id": "cXOwuqf5Cj-9"
      },
      "cell_type": "code",
      "source": [
        "import numpy as np\n",
        "import pandas as pd\n",
        "import seaborn as sns\n",
        "import matplotlib.pyplot as plt\n",
        "%matplotlib inline\n",
        "\n",
        "from sklearn.preprocessing import LabelEncoder\n",
        "from sklearn.model_selection import train_test_split\n",
        "from sklearn.metrics import accuracy_score\n",
        "from sklearn.metrics import confusion_matrix\n",
        "from sklearn.ensemble import RandomForestClassifier"
      ],
      "execution_count": 1,
      "outputs": []
    },
    {
      "metadata": {
        "_uuid": "ff36099f17311399436b8186242394150c1889de",
        "id": "YKU2tDu9Cj-9"
      },
      "cell_type": "markdown",
      "source": [
        "We now need to import our data:"
      ]
    },
    {
      "metadata": {
        "ExecuteTime": {
          "end_time": "2018-04-20T20:10:44.094209Z",
          "start_time": "2018-04-20T20:10:44.044209Z"
        },
        "trusted": true,
        "_uuid": "b15535e26b1e5b122d39c3cdcc9660d996f35a92",
        "colab": {
          "base_uri": "https://localhost:8080/",
          "height": 434
        },
        "id": "M6GgcGSzCj--",
        "outputId": "b1575334-a1a5-4675-cb2b-821a1b8c44b6"
      },
      "cell_type": "code",
      "source": [
        "# dataset = pd.read_csv('../input/Grid_Disruption_00_14_standardized - Grid_Disruption_00_14_standardized.csv')\n",
        "dataset = pd.read_csv(\"outagedata.csv\")\n",
        "dataset.head()"
      ],
      "execution_count": 33,
      "outputs": [
        {
          "output_type": "execute_result",
          "data": {
            "text/plain": [
              "                Event Description  Year Date Event Began Time Event Began  \\\n",
              "0  Severe Weather - Thunderstorms  2014        6/30/2014          8:00 PM   \n",
              "1  Severe Weather - Thunderstorms  2014        6/30/2014         11:20 PM   \n",
              "2  Severe Weather - Thunderstorms  2014        6/30/2014          5:55 PM   \n",
              "3    Fuel Supply Emergency - Coal  2014        6/27/2014          1:21 PM   \n",
              "4     Physical Attack - Vandalism  2014        6/24/2014          2:54 PM   \n",
              "\n",
              "  Date of Restoration Time of Restoration  \\\n",
              "0            7/2/2014             6:30 PM   \n",
              "1            7/1/2014             5:00 PM   \n",
              "2            7/1/2014             2:53 AM   \n",
              "3             Unknown             Unknown   \n",
              "4           6/24/2014             2:55 PM   \n",
              "\n",
              "                                Respondent       Geographic Areas NERC Region  \\\n",
              "0                 Exelon Corporation/ComEd               Illinois         RFC   \n",
              "1  Northern Indiana Public Service Company  North Central Indiana         RFC   \n",
              "2                              We Energies   Southeast  Wisconsin         MRO   \n",
              "3                              We Energies              Wisconsin         MRO   \n",
              "4               Tennessee Valley Authority   Nashville, Tennessee        SERC   \n",
              "\n",
              "  Demand Loss (MW) Number of Customers Affected                          Tags  \n",
              "0          Unknown                      420,000  severe weather, thunderstorm  \n",
              "1          Unknown                      127,000  severe weather, thunderstorm  \n",
              "2              424                      120,000  severe weather, thunderstorm  \n",
              "3          Unknown                      Unknown   fuel supply emergency, coal  \n",
              "4          Unknown                      Unknown           vandalism, physical  "
            ],
            "text/html": [
              "\n",
              "  <div id=\"df-f7396d13-e02c-43c4-9eb5-b1d9802f8d79\" class=\"colab-df-container\">\n",
              "    <div>\n",
              "<style scoped>\n",
              "    .dataframe tbody tr th:only-of-type {\n",
              "        vertical-align: middle;\n",
              "    }\n",
              "\n",
              "    .dataframe tbody tr th {\n",
              "        vertical-align: top;\n",
              "    }\n",
              "\n",
              "    .dataframe thead th {\n",
              "        text-align: right;\n",
              "    }\n",
              "</style>\n",
              "<table border=\"1\" class=\"dataframe\">\n",
              "  <thead>\n",
              "    <tr style=\"text-align: right;\">\n",
              "      <th></th>\n",
              "      <th>Event Description</th>\n",
              "      <th>Year</th>\n",
              "      <th>Date Event Began</th>\n",
              "      <th>Time Event Began</th>\n",
              "      <th>Date of Restoration</th>\n",
              "      <th>Time of Restoration</th>\n",
              "      <th>Respondent</th>\n",
              "      <th>Geographic Areas</th>\n",
              "      <th>NERC Region</th>\n",
              "      <th>Demand Loss (MW)</th>\n",
              "      <th>Number of Customers Affected</th>\n",
              "      <th>Tags</th>\n",
              "    </tr>\n",
              "  </thead>\n",
              "  <tbody>\n",
              "    <tr>\n",
              "      <th>0</th>\n",
              "      <td>Severe Weather - Thunderstorms</td>\n",
              "      <td>2014</td>\n",
              "      <td>6/30/2014</td>\n",
              "      <td>8:00 PM</td>\n",
              "      <td>7/2/2014</td>\n",
              "      <td>6:30 PM</td>\n",
              "      <td>Exelon Corporation/ComEd</td>\n",
              "      <td>Illinois</td>\n",
              "      <td>RFC</td>\n",
              "      <td>Unknown</td>\n",
              "      <td>420,000</td>\n",
              "      <td>severe weather, thunderstorm</td>\n",
              "    </tr>\n",
              "    <tr>\n",
              "      <th>1</th>\n",
              "      <td>Severe Weather - Thunderstorms</td>\n",
              "      <td>2014</td>\n",
              "      <td>6/30/2014</td>\n",
              "      <td>11:20 PM</td>\n",
              "      <td>7/1/2014</td>\n",
              "      <td>5:00 PM</td>\n",
              "      <td>Northern Indiana Public Service Company</td>\n",
              "      <td>North Central Indiana</td>\n",
              "      <td>RFC</td>\n",
              "      <td>Unknown</td>\n",
              "      <td>127,000</td>\n",
              "      <td>severe weather, thunderstorm</td>\n",
              "    </tr>\n",
              "    <tr>\n",
              "      <th>2</th>\n",
              "      <td>Severe Weather - Thunderstorms</td>\n",
              "      <td>2014</td>\n",
              "      <td>6/30/2014</td>\n",
              "      <td>5:55 PM</td>\n",
              "      <td>7/1/2014</td>\n",
              "      <td>2:53 AM</td>\n",
              "      <td>We Energies</td>\n",
              "      <td>Southeast  Wisconsin</td>\n",
              "      <td>MRO</td>\n",
              "      <td>424</td>\n",
              "      <td>120,000</td>\n",
              "      <td>severe weather, thunderstorm</td>\n",
              "    </tr>\n",
              "    <tr>\n",
              "      <th>3</th>\n",
              "      <td>Fuel Supply Emergency - Coal</td>\n",
              "      <td>2014</td>\n",
              "      <td>6/27/2014</td>\n",
              "      <td>1:21 PM</td>\n",
              "      <td>Unknown</td>\n",
              "      <td>Unknown</td>\n",
              "      <td>We Energies</td>\n",
              "      <td>Wisconsin</td>\n",
              "      <td>MRO</td>\n",
              "      <td>Unknown</td>\n",
              "      <td>Unknown</td>\n",
              "      <td>fuel supply emergency, coal</td>\n",
              "    </tr>\n",
              "    <tr>\n",
              "      <th>4</th>\n",
              "      <td>Physical Attack - Vandalism</td>\n",
              "      <td>2014</td>\n",
              "      <td>6/24/2014</td>\n",
              "      <td>2:54 PM</td>\n",
              "      <td>6/24/2014</td>\n",
              "      <td>2:55 PM</td>\n",
              "      <td>Tennessee Valley Authority</td>\n",
              "      <td>Nashville, Tennessee</td>\n",
              "      <td>SERC</td>\n",
              "      <td>Unknown</td>\n",
              "      <td>Unknown</td>\n",
              "      <td>vandalism, physical</td>\n",
              "    </tr>\n",
              "  </tbody>\n",
              "</table>\n",
              "</div>\n",
              "    <div class=\"colab-df-buttons\">\n",
              "\n",
              "  <div class=\"colab-df-container\">\n",
              "    <button class=\"colab-df-convert\" onclick=\"convertToInteractive('df-f7396d13-e02c-43c4-9eb5-b1d9802f8d79')\"\n",
              "            title=\"Convert this dataframe to an interactive table.\"\n",
              "            style=\"display:none;\">\n",
              "\n",
              "  <svg xmlns=\"http://www.w3.org/2000/svg\" height=\"24px\" viewBox=\"0 -960 960 960\">\n",
              "    <path d=\"M120-120v-720h720v720H120Zm60-500h600v-160H180v160Zm220 220h160v-160H400v160Zm0 220h160v-160H400v160ZM180-400h160v-160H180v160Zm440 0h160v-160H620v160ZM180-180h160v-160H180v160Zm440 0h160v-160H620v160Z\"/>\n",
              "  </svg>\n",
              "    </button>\n",
              "\n",
              "  <style>\n",
              "    .colab-df-container {\n",
              "      display:flex;\n",
              "      gap: 12px;\n",
              "    }\n",
              "\n",
              "    .colab-df-convert {\n",
              "      background-color: #E8F0FE;\n",
              "      border: none;\n",
              "      border-radius: 50%;\n",
              "      cursor: pointer;\n",
              "      display: none;\n",
              "      fill: #1967D2;\n",
              "      height: 32px;\n",
              "      padding: 0 0 0 0;\n",
              "      width: 32px;\n",
              "    }\n",
              "\n",
              "    .colab-df-convert:hover {\n",
              "      background-color: #E2EBFA;\n",
              "      box-shadow: 0px 1px 2px rgba(60, 64, 67, 0.3), 0px 1px 3px 1px rgba(60, 64, 67, 0.15);\n",
              "      fill: #174EA6;\n",
              "    }\n",
              "\n",
              "    .colab-df-buttons div {\n",
              "      margin-bottom: 4px;\n",
              "    }\n",
              "\n",
              "    [theme=dark] .colab-df-convert {\n",
              "      background-color: #3B4455;\n",
              "      fill: #D2E3FC;\n",
              "    }\n",
              "\n",
              "    [theme=dark] .colab-df-convert:hover {\n",
              "      background-color: #434B5C;\n",
              "      box-shadow: 0px 1px 3px 1px rgba(0, 0, 0, 0.15);\n",
              "      filter: drop-shadow(0px 1px 2px rgba(0, 0, 0, 0.3));\n",
              "      fill: #FFFFFF;\n",
              "    }\n",
              "  </style>\n",
              "\n",
              "    <script>\n",
              "      const buttonEl =\n",
              "        document.querySelector('#df-f7396d13-e02c-43c4-9eb5-b1d9802f8d79 button.colab-df-convert');\n",
              "      buttonEl.style.display =\n",
              "        google.colab.kernel.accessAllowed ? 'block' : 'none';\n",
              "\n",
              "      async function convertToInteractive(key) {\n",
              "        const element = document.querySelector('#df-f7396d13-e02c-43c4-9eb5-b1d9802f8d79');\n",
              "        const dataTable =\n",
              "          await google.colab.kernel.invokeFunction('convertToInteractive',\n",
              "                                                    [key], {});\n",
              "        if (!dataTable) return;\n",
              "\n",
              "        const docLinkHtml = 'Like what you see? Visit the ' +\n",
              "          '<a target=\"_blank\" href=https://colab.research.google.com/notebooks/data_table.ipynb>data table notebook</a>'\n",
              "          + ' to learn more about interactive tables.';\n",
              "        element.innerHTML = '';\n",
              "        dataTable['output_type'] = 'display_data';\n",
              "        await google.colab.output.renderOutput(dataTable, element);\n",
              "        const docLink = document.createElement('div');\n",
              "        docLink.innerHTML = docLinkHtml;\n",
              "        element.appendChild(docLink);\n",
              "      }\n",
              "    </script>\n",
              "  </div>\n",
              "\n",
              "\n",
              "<div id=\"df-36aab476-9b7d-47db-b5f6-b85bdfb8841c\">\n",
              "  <button class=\"colab-df-quickchart\" onclick=\"quickchart('df-36aab476-9b7d-47db-b5f6-b85bdfb8841c')\"\n",
              "            title=\"Suggest charts\"\n",
              "            style=\"display:none;\">\n",
              "\n",
              "<svg xmlns=\"http://www.w3.org/2000/svg\" height=\"24px\"viewBox=\"0 0 24 24\"\n",
              "     width=\"24px\">\n",
              "    <g>\n",
              "        <path d=\"M19 3H5c-1.1 0-2 .9-2 2v14c0 1.1.9 2 2 2h14c1.1 0 2-.9 2-2V5c0-1.1-.9-2-2-2zM9 17H7v-7h2v7zm4 0h-2V7h2v10zm4 0h-2v-4h2v4z\"/>\n",
              "    </g>\n",
              "</svg>\n",
              "  </button>\n",
              "\n",
              "<style>\n",
              "  .colab-df-quickchart {\n",
              "      --bg-color: #E8F0FE;\n",
              "      --fill-color: #1967D2;\n",
              "      --hover-bg-color: #E2EBFA;\n",
              "      --hover-fill-color: #174EA6;\n",
              "      --disabled-fill-color: #AAA;\n",
              "      --disabled-bg-color: #DDD;\n",
              "  }\n",
              "\n",
              "  [theme=dark] .colab-df-quickchart {\n",
              "      --bg-color: #3B4455;\n",
              "      --fill-color: #D2E3FC;\n",
              "      --hover-bg-color: #434B5C;\n",
              "      --hover-fill-color: #FFFFFF;\n",
              "      --disabled-bg-color: #3B4455;\n",
              "      --disabled-fill-color: #666;\n",
              "  }\n",
              "\n",
              "  .colab-df-quickchart {\n",
              "    background-color: var(--bg-color);\n",
              "    border: none;\n",
              "    border-radius: 50%;\n",
              "    cursor: pointer;\n",
              "    display: none;\n",
              "    fill: var(--fill-color);\n",
              "    height: 32px;\n",
              "    padding: 0;\n",
              "    width: 32px;\n",
              "  }\n",
              "\n",
              "  .colab-df-quickchart:hover {\n",
              "    background-color: var(--hover-bg-color);\n",
              "    box-shadow: 0 1px 2px rgba(60, 64, 67, 0.3), 0 1px 3px 1px rgba(60, 64, 67, 0.15);\n",
              "    fill: var(--button-hover-fill-color);\n",
              "  }\n",
              "\n",
              "  .colab-df-quickchart-complete:disabled,\n",
              "  .colab-df-quickchart-complete:disabled:hover {\n",
              "    background-color: var(--disabled-bg-color);\n",
              "    fill: var(--disabled-fill-color);\n",
              "    box-shadow: none;\n",
              "  }\n",
              "\n",
              "  .colab-df-spinner {\n",
              "    border: 2px solid var(--fill-color);\n",
              "    border-color: transparent;\n",
              "    border-bottom-color: var(--fill-color);\n",
              "    animation:\n",
              "      spin 1s steps(1) infinite;\n",
              "  }\n",
              "\n",
              "  @keyframes spin {\n",
              "    0% {\n",
              "      border-color: transparent;\n",
              "      border-bottom-color: var(--fill-color);\n",
              "      border-left-color: var(--fill-color);\n",
              "    }\n",
              "    20% {\n",
              "      border-color: transparent;\n",
              "      border-left-color: var(--fill-color);\n",
              "      border-top-color: var(--fill-color);\n",
              "    }\n",
              "    30% {\n",
              "      border-color: transparent;\n",
              "      border-left-color: var(--fill-color);\n",
              "      border-top-color: var(--fill-color);\n",
              "      border-right-color: var(--fill-color);\n",
              "    }\n",
              "    40% {\n",
              "      border-color: transparent;\n",
              "      border-right-color: var(--fill-color);\n",
              "      border-top-color: var(--fill-color);\n",
              "    }\n",
              "    60% {\n",
              "      border-color: transparent;\n",
              "      border-right-color: var(--fill-color);\n",
              "    }\n",
              "    80% {\n",
              "      border-color: transparent;\n",
              "      border-right-color: var(--fill-color);\n",
              "      border-bottom-color: var(--fill-color);\n",
              "    }\n",
              "    90% {\n",
              "      border-color: transparent;\n",
              "      border-bottom-color: var(--fill-color);\n",
              "    }\n",
              "  }\n",
              "</style>\n",
              "\n",
              "  <script>\n",
              "    async function quickchart(key) {\n",
              "      const quickchartButtonEl =\n",
              "        document.querySelector('#' + key + ' button');\n",
              "      quickchartButtonEl.disabled = true;  // To prevent multiple clicks.\n",
              "      quickchartButtonEl.classList.add('colab-df-spinner');\n",
              "      try {\n",
              "        const charts = await google.colab.kernel.invokeFunction(\n",
              "            'suggestCharts', [key], {});\n",
              "      } catch (error) {\n",
              "        console.error('Error during call to suggestCharts:', error);\n",
              "      }\n",
              "      quickchartButtonEl.classList.remove('colab-df-spinner');\n",
              "      quickchartButtonEl.classList.add('colab-df-quickchart-complete');\n",
              "    }\n",
              "    (() => {\n",
              "      let quickchartButtonEl =\n",
              "        document.querySelector('#df-36aab476-9b7d-47db-b5f6-b85bdfb8841c button');\n",
              "      quickchartButtonEl.style.display =\n",
              "        google.colab.kernel.accessAllowed ? 'block' : 'none';\n",
              "    })();\n",
              "  </script>\n",
              "</div>\n",
              "\n",
              "    </div>\n",
              "  </div>\n"
            ],
            "application/vnd.google.colaboratory.intrinsic+json": {
              "type": "dataframe",
              "variable_name": "dataset",
              "summary": "{\n  \"name\": \"dataset\",\n  \"rows\": 1652,\n  \"fields\": [\n    {\n      \"column\": \"Event Description\",\n      \"properties\": {\n        \"dtype\": \"category\",\n        \"num_unique_values\": 390,\n        \"samples\": [\n          \"Load shedding of 100 Megawatts\",\n          \"Physcial Attack; Sabotage\",\n          \"Physical Attack - Vandalism, Theft\"\n        ],\n        \"semantic_type\": \"\",\n        \"description\": \"\"\n      }\n    },\n    {\n      \"column\": \"Year\",\n      \"properties\": {\n        \"dtype\": \"number\",\n        \"std\": 3,\n        \"min\": 2000,\n        \"max\": 2014,\n        \"num_unique_values\": 15,\n        \"samples\": [\n          2005,\n          2003,\n          2014\n        ],\n        \"semantic_type\": \"\",\n        \"description\": \"\"\n      }\n    },\n    {\n      \"column\": \"Date Event Began\",\n      \"properties\": {\n        \"dtype\": \"object\",\n        \"num_unique_values\": 1030,\n        \"samples\": [\n          \"4/12/2014\",\n          \"8/19/2013\",\n          \"6/19/2013\"\n        ],\n        \"semantic_type\": \"\",\n        \"description\": \"\"\n      }\n    },\n    {\n      \"column\": \"Time Event Began\",\n      \"properties\": {\n        \"dtype\": \"category\",\n        \"num_unique_values\": 810,\n        \"samples\": [\n          \"12:45 PM\",\n          \"12:45 a.m.\",\n          \"4:03 PM\"\n        ],\n        \"semantic_type\": \"\",\n        \"description\": \"\"\n      }\n    },\n    {\n      \"column\": \"Date of Restoration\",\n      \"properties\": {\n        \"dtype\": \"string\",\n        \"num_unique_values\": 1142,\n        \"samples\": [\n          \"5/28/2013\",\n          \"7/4/2003\",\n          \"5/7/2012\"\n        ],\n        \"semantic_type\": \"\",\n        \"description\": \"\"\n      }\n    },\n    {\n      \"column\": \"Time of Restoration\",\n      \"properties\": {\n        \"dtype\": \"category\",\n        \"num_unique_values\": 732,\n        \"samples\": [\n          \"2:25 p.m.\",\n          \"7:30 AM\",\n          \"8:45 AM\"\n        ],\n        \"semantic_type\": \"\",\n        \"description\": \"\"\n      }\n    },\n    {\n      \"column\": \"Respondent\",\n      \"properties\": {\n        \"dtype\": \"category\",\n        \"num_unique_values\": 529,\n        \"samples\": [\n          \"Long Island Power Authority (LIPA)\",\n          \"American Electric Power (CSWS)\",\n          \"Xcel Energy\"\n        ],\n        \"semantic_type\": \"\",\n        \"description\": \"\"\n      }\n    },\n    {\n      \"column\": \"Geographic Areas\",\n      \"properties\": {\n        \"dtype\": \"string\",\n        \"num_unique_values\": 1001,\n        \"samples\": [\n          \"Rock Springs, Wyoming\",\n          \"Harford County, Maryland\",\n          \"Southwestern Pennsylvania, West Virginia, Virginia, Maryland\"\n        ],\n        \"semantic_type\": \"\",\n        \"description\": \"\"\n      }\n    },\n    {\n      \"column\": \"NERC Region\",\n      \"properties\": {\n        \"dtype\": \"category\",\n        \"num_unique_values\": 22,\n        \"samples\": [\n          \"RFC\",\n          \"HI\",\n          \"SPP\"\n        ],\n        \"semantic_type\": \"\",\n        \"description\": \"\"\n      }\n    },\n    {\n      \"column\": \"Demand Loss (MW)\",\n      \"properties\": {\n        \"dtype\": \"category\",\n        \"num_unique_values\": 363,\n        \"samples\": [\n          \"324\",\n          \"535\",\n          \"700\"\n        ],\n        \"semantic_type\": \"\",\n        \"description\": \"\"\n      }\n    },\n    {\n      \"column\": \"Number of Customers Affected\",\n      \"properties\": {\n        \"dtype\": \"category\",\n        \"num_unique_values\": 713,\n        \"samples\": [\n          \"173,273\",\n          \"360,000\",\n          \"88,000\"\n        ],\n        \"semantic_type\": \"\",\n        \"description\": \"\"\n      }\n    },\n    {\n      \"column\": \"Tags\",\n      \"properties\": {\n        \"dtype\": \"category\",\n        \"num_unique_values\": 89,\n        \"samples\": [\n          \"load shedding, islanding\",\n          \"severe weather, wind, flooding\",\n          \"vandalism, equipment failure\"\n        ],\n        \"semantic_type\": \"\",\n        \"description\": \"\"\n      }\n    }\n  ]\n}"
            }
          },
          "metadata": {},
          "execution_count": 33
        }
      ]
    },
    {
      "metadata": {
        "ExecuteTime": {
          "end_time": "2018-04-20T20:10:44.254209Z",
          "start_time": "2018-04-20T20:10:44.099209Z"
        },
        "collapsed": true,
        "trusted": false,
        "_uuid": "809aee87f76e052bef8444facb8abab989e9983a",
        "colab": {
          "base_uri": "https://localhost:8080/"
        },
        "id": "jPXM8MUxCj--",
        "outputId": "61f9e507-599f-4bd7-9510-46a23681a40a"
      },
      "cell_type": "code",
      "source": [
        "print(\"Number of entries: \" + str(len(dataset.index)))"
      ],
      "execution_count": 34,
      "outputs": [
        {
          "output_type": "stream",
          "name": "stdout",
          "text": [
            "Number of entries: 1652\n"
          ]
        }
      ]
    },
    {
      "metadata": {
        "_uuid": "97ea0a894ed9f341a7ffaac835245c0d7b3f9215",
        "id": "jwkSisbpCj--"
      },
      "cell_type": "markdown",
      "source": [
        "A quick peek at the data shows us that empty values are defined as \"Unknown\", which means we should treat them as NULL. To decide what to do with each value, we must first analyze how many empty values each column has:"
      ]
    },
    {
      "metadata": {
        "ExecuteTime": {
          "end_time": "2018-04-20T16:21:44.295848Z",
          "start_time": "2018-04-20T16:21:44.294848Z"
        },
        "_uuid": "ce1b8a0fecec76408bd9e4a7a9f5f5a3b360b50a",
        "id": "z7wQ7mWoCj--"
      },
      "cell_type": "markdown",
      "source": [
        "### Dealing with empty values"
      ]
    },
    {
      "metadata": {
        "_uuid": "55b8a34fd9c3aa750d6b88caed5ed23690d66bca",
        "id": "4QQByndOCj--"
      },
      "cell_type": "markdown",
      "source": [
        "We can see many columns have \"Unknown\", which needs to be cleaned. We need to have special care with our numerical columns. Year is pretty likely pretty clean, I expect that \"Number of Customers Affected\" is more troublesome:"
      ]
    },
    {
      "metadata": {
        "ExecuteTime": {
          "end_time": "2018-04-20T20:10:44.795209Z",
          "start_time": "2018-04-20T20:10:44.260209Z"
        },
        "trusted": false,
        "_uuid": "8c8fe7d6e83c9d15702eacf54332f85b85581ccc",
        "colab": {
          "base_uri": "https://localhost:8080/"
        },
        "id": "pMB4UcNrCj--",
        "outputId": "3ff3c360-7295-4b05-e32a-700a2d9794f8"
      },
      "cell_type": "code",
      "source": [
        "len(pd.to_numeric(dataset['Year'], 'coerce').dropna().astype(int))"
      ],
      "execution_count": 35,
      "outputs": [
        {
          "output_type": "execute_result",
          "data": {
            "text/plain": [
              "1652"
            ]
          },
          "metadata": {},
          "execution_count": 35
        }
      ]
    },
    {
      "metadata": {
        "_uuid": "7fd467db6eb4c746eae09bc07d99ebb10fdcc74a",
        "id": "pxRNZhj8Cj--"
      },
      "cell_type": "markdown",
      "source": [
        "\"Year\" seems to be perfectly filled, we don't need to worry about it."
      ]
    },
    {
      "metadata": {
        "ExecuteTime": {
          "end_time": "2018-04-20T20:10:44.977209Z",
          "start_time": "2018-04-20T20:10:44.802209Z"
        },
        "trusted": false,
        "_uuid": "45a3b009a8e1d07844cead45dcf56a7c011d9488",
        "colab": {
          "base_uri": "https://localhost:8080/"
        },
        "id": "px_cYTXjCj--",
        "outputId": "a45f0a7d-2ab9-452e-b386-39c86f90aee3"
      },
      "cell_type": "code",
      "source": [
        "len(pd.to_numeric(dataset['Demand Loss (MW)'], 'coerce').dropna().astype(int))"
      ],
      "execution_count": 36,
      "outputs": [
        {
          "output_type": "execute_result",
          "data": {
            "text/plain": [
              "807"
            ]
          },
          "metadata": {},
          "execution_count": 36
        }
      ]
    },
    {
      "metadata": {
        "ExecuteTime": {
          "end_time": "2018-04-20T19:30:06.227006Z",
          "start_time": "2018-04-20T19:30:06.215005Z"
        },
        "_uuid": "887a04f6fed53d352f68f1f9c996c33f0931022d",
        "id": "DZt-tyoaCj-_"
      },
      "cell_type": "markdown",
      "source": [
        "Over 700 rows are not numeric on 'Demand Loss (MW)'. It's quite a lot of missing values (almost 50%), we'll have to decide if we want to keep it or not."
      ]
    },
    {
      "metadata": {
        "ExecuteTime": {
          "end_time": "2018-04-20T20:10:45.178209Z",
          "start_time": "2018-04-20T20:10:44.999209Z"
        },
        "trusted": false,
        "_uuid": "697d5432346de57bdfbcb461cbe570b4c171506f",
        "colab": {
          "base_uri": "https://localhost:8080/"
        },
        "id": "ZkdcQjBmCj-_",
        "outputId": "da88188d-44e6-41fd-b22c-5658ead2faea"
      },
      "cell_type": "code",
      "source": [
        "len(pd.to_numeric(dataset['Number of Customers Affected'], 'coerce').dropna().astype(int))"
      ],
      "execution_count": 37,
      "outputs": [
        {
          "output_type": "execute_result",
          "data": {
            "text/plain": [
              "222"
            ]
          },
          "metadata": {},
          "execution_count": 37
        }
      ]
    },
    {
      "metadata": {
        "ExecuteTime": {
          "end_time": "2018-04-20T18:19:12.590609Z",
          "start_time": "2018-04-20T18:19:12.581609Z"
        },
        "_uuid": "bcfd64c67d8388df6a289eb0cc4225bdb7165362",
        "id": "u0UHPfQvCj-_"
      },
      "cell_type": "markdown",
      "source": [
        "As we can see above, we have too many non numerical rows for this column (only 222 are correctly filled), it may be best to simply drop it. Let's take a quick look at 'Demand Loss (MW)' first:"
      ]
    },
    {
      "metadata": {
        "ExecuteTime": {
          "end_time": "2018-04-20T20:10:45.301209Z",
          "start_time": "2018-04-20T20:10:45.186209Z"
        },
        "trusted": false,
        "_uuid": "83473f3d4e46ecaa77293d2a8e18dbc7382b8033",
        "id": "KavX6CLPCj-_"
      },
      "cell_type": "code",
      "source": [
        "print('Demand Loss (MW)')\n",
        "dataset.iloc[:, 9]"
      ],
      "execution_count": null,
      "outputs": []
    },
    {
      "metadata": {
        "_uuid": "13b973ced2a05083a67d9312699247d3d1796869",
        "id": "qFWWGlDQCj-_"
      },
      "cell_type": "markdown",
      "source": [
        "Besides the usual 'None', 'NaN' and 'Unknown', there are some range values in place (separated by '-'). In other circumstances, I would just remove this column, but since we're likely dropping 'Number of Customers Affected', let's simply remove the empty values:"
      ]
    },
    {
      "metadata": {
        "ExecuteTime": {
          "end_time": "2018-04-20T20:10:45.428209Z",
          "start_time": "2018-04-20T20:10:45.307209Z"
        },
        "collapsed": true,
        "trusted": false,
        "_uuid": "f0999e8d0fbb87dea0bafd2292bffd1e5dd23865",
        "colab": {
          "base_uri": "https://localhost:8080/"
        },
        "id": "V6G6FoN0Cj-_",
        "outputId": "03743b6f-40ff-4ae4-9cdd-a25fab468135"
      },
      "cell_type": "code",
      "source": [
        "dataset = dataset.iloc[pd.to_numeric(dataset['Demand Loss (MW)'], 'coerce').dropna().astype(int).index, :]\n",
        "print(len(dataset.index))"
      ],
      "execution_count": 39,
      "outputs": [
        {
          "output_type": "stream",
          "name": "stdout",
          "text": [
            "807\n"
          ]
        }
      ]
    },
    {
      "metadata": {
        "_uuid": "b06437b8433cfffd61de10d8c8041bb12616297d",
        "id": "mmqUUtAeCj-_"
      },
      "cell_type": "markdown",
      "source": [
        "Let's take a quick look at 'Number of Customers Affected', to make sure it isn't anything we can fix:"
      ]
    },
    {
      "metadata": {
        "ExecuteTime": {
          "end_time": "2018-04-20T20:10:45.567209Z",
          "start_time": "2018-04-20T20:10:45.434209Z"
        },
        "trusted": false,
        "_uuid": "9747657b87550a9401b8b75b0ef91901038bce37",
        "colab": {
          "base_uri": "https://localhost:8080/",
          "height": 476
        },
        "id": "xtSaAT67Cj-_",
        "outputId": "8f7e212f-4f10-4ead-fe56-98630ab4c3f4"
      },
      "cell_type": "code",
      "source": [
        "print('Number of Customers Affected')\n",
        "dataset.iloc[:, 10]"
      ],
      "execution_count": 43,
      "outputs": [
        {
          "output_type": "stream",
          "name": "stdout",
          "text": [
            "Number of Customers Affected\n"
          ]
        },
        {
          "output_type": "execute_result",
          "data": {
            "text/plain": [
              "2             120,000\n",
              "14             65,000\n",
              "16             38,500\n",
              "18                NaN\n",
              "33             89,000\n",
              "            ...      \n",
              "1645    40,000-45,000\n",
              "1647          100,000\n",
              "1649           81,000\n",
              "1650          173,000\n",
              "1651          133,000\n",
              "Name: Number of Customers Affected, Length: 807, dtype: object"
            ],
            "text/html": [
              "<div>\n",
              "<style scoped>\n",
              "    .dataframe tbody tr th:only-of-type {\n",
              "        vertical-align: middle;\n",
              "    }\n",
              "\n",
              "    .dataframe tbody tr th {\n",
              "        vertical-align: top;\n",
              "    }\n",
              "\n",
              "    .dataframe thead th {\n",
              "        text-align: right;\n",
              "    }\n",
              "</style>\n",
              "<table border=\"1\" class=\"dataframe\">\n",
              "  <thead>\n",
              "    <tr style=\"text-align: right;\">\n",
              "      <th></th>\n",
              "      <th>Number of Customers Affected</th>\n",
              "    </tr>\n",
              "  </thead>\n",
              "  <tbody>\n",
              "    <tr>\n",
              "      <th>2</th>\n",
              "      <td>120,000</td>\n",
              "    </tr>\n",
              "    <tr>\n",
              "      <th>14</th>\n",
              "      <td>65,000</td>\n",
              "    </tr>\n",
              "    <tr>\n",
              "      <th>16</th>\n",
              "      <td>38,500</td>\n",
              "    </tr>\n",
              "    <tr>\n",
              "      <th>18</th>\n",
              "      <td>NaN</td>\n",
              "    </tr>\n",
              "    <tr>\n",
              "      <th>33</th>\n",
              "      <td>89,000</td>\n",
              "    </tr>\n",
              "    <tr>\n",
              "      <th>...</th>\n",
              "      <td>...</td>\n",
              "    </tr>\n",
              "    <tr>\n",
              "      <th>1645</th>\n",
              "      <td>40,000-45,000</td>\n",
              "    </tr>\n",
              "    <tr>\n",
              "      <th>1647</th>\n",
              "      <td>100,000</td>\n",
              "    </tr>\n",
              "    <tr>\n",
              "      <th>1649</th>\n",
              "      <td>81,000</td>\n",
              "    </tr>\n",
              "    <tr>\n",
              "      <th>1650</th>\n",
              "      <td>173,000</td>\n",
              "    </tr>\n",
              "    <tr>\n",
              "      <th>1651</th>\n",
              "      <td>133,000</td>\n",
              "    </tr>\n",
              "  </tbody>\n",
              "</table>\n",
              "<p>807 rows × 1 columns</p>\n",
              "</div><br><label><b>dtype:</b> object</label>"
            ]
          },
          "metadata": {},
          "execution_count": 43
        }
      ]
    },
    {
      "metadata": {
        "ExecuteTime": {
          "end_time": "2018-04-20T18:25:21.617609Z",
          "start_time": "2018-04-20T18:25:21.610609Z"
        },
        "_uuid": "91bd36ca64fe7f917a428d9bd086b4d7e0c3664a",
        "id": "1QWZb78aCj-_"
      },
      "cell_type": "markdown",
      "source": [
        "As we suspected, this data is not in good shape to be used. Besides the usual culprits (\"NaN\", \"Unknown\", \"None\"), we also have some strange choices, such as using \"Approx. \" and \" - \" to indicate a possible range of values. With that in mind, let's proceed with the plan to drop it:"
      ]
    },
    {
      "metadata": {
        "ExecuteTime": {
          "end_time": "2018-04-20T20:10:45.705209Z",
          "start_time": "2018-04-20T20:10:45.573209Z"
        },
        "collapsed": true,
        "trusted": false,
        "_uuid": "db9c2330723e968f129310d8f0cd5cfffef8fab6",
        "id": "5x0cux_9Cj-_"
      },
      "cell_type": "code",
      "source": [
        "dataset = dataset[dataset.columns.difference(['Number of Customers Affected'])]"
      ],
      "execution_count": 12,
      "outputs": []
    },
    {
      "metadata": {
        "_uuid": "32543bf77f4acc518bbbc7c2a0967432d30eccf5",
        "id": "7cd4kENjCj-_"
      },
      "cell_type": "markdown",
      "source": [
        "With that done, we can continue with our data pre-processing and replace 'Unknown' with None on all other columns, so that we can have a better idea of how many empty values we have:"
      ]
    },
    {
      "metadata": {
        "ExecuteTime": {
          "end_time": "2018-04-20T20:10:45.964209Z",
          "start_time": "2018-04-20T20:10:45.714209Z"
        },
        "collapsed": true,
        "trusted": false,
        "_uuid": "a8a46573f2543ae1fcba8fcdfe8976d1aa10a149",
        "colab": {
          "base_uri": "https://localhost:8080/"
        },
        "id": "bt3oEYziCj_A",
        "outputId": "af02a532-294b-4ccf-bb57-8e942ef0c699"
      },
      "cell_type": "code",
      "source": [
        "for column in dataset.columns:\n",
        "    dataset[column].replace('Unknown', None, inplace=True)"
      ],
      "execution_count": 44,
      "outputs": [
        {
          "output_type": "stream",
          "name": "stderr",
          "text": [
            "<ipython-input-44-59b92e0f1770>:2: FutureWarning: A value is trying to be set on a copy of a DataFrame or Series through chained assignment using an inplace method.\n",
            "The behavior will change in pandas 3.0. This inplace method will never work because the intermediate object on which we are setting values always behaves as a copy.\n",
            "\n",
            "For example, when doing 'df[col].method(value, inplace=True)', try using 'df.method({col: value}, inplace=True)' or df[col] = df[col].method(value) instead, to perform the operation inplace on the original object.\n",
            "\n",
            "\n",
            "  dataset[column].replace('Unknown', None, inplace=True)\n"
          ]
        }
      ]
    },
    {
      "metadata": {
        "ExecuteTime": {
          "end_time": "2018-04-20T20:10:46.113209Z",
          "start_time": "2018-04-20T20:10:45.967209Z"
        },
        "trusted": false,
        "_uuid": "897da40817fd1d39426068f4913eddc8403920ef",
        "id": "UQw9vCNBCj_A"
      },
      "cell_type": "code",
      "source": [
        "dataset.isnull().any()"
      ],
      "execution_count": null,
      "outputs": []
    },
    {
      "metadata": {
        "_uuid": "af0fb5e6e56818363ed8d4c640d398b69da2d9c2",
        "id": "oJRy8eLbCj_A"
      },
      "cell_type": "markdown",
      "source": [
        "Many columns have empty values, lets now check how bad it is:"
      ]
    },
    {
      "metadata": {
        "ExecuteTime": {
          "end_time": "2018-04-20T20:10:46.386209Z",
          "start_time": "2018-04-20T20:10:46.118209Z"
        },
        "collapsed": true,
        "trusted": false,
        "_uuid": "e781ab0c7d182ad3e1b06b2c6277be666131e1dd",
        "colab": {
          "base_uri": "https://localhost:8080/"
        },
        "id": "aVhcnu8OCj_A",
        "outputId": "38ad068f-f557-4b01-c396-86117d1d79dd"
      },
      "cell_type": "code",
      "source": [
        "print(\"Total number of rows: \" + str(len(dataset.index)))\n",
        "print(\"Number of empty values:\")\n",
        "for column in dataset.columns:\n",
        "    print(\" * \" + column + \": \" + str(dataset[column].isnull().sum()))"
      ],
      "execution_count": 47,
      "outputs": [
        {
          "output_type": "stream",
          "name": "stdout",
          "text": [
            "Total number of rows: 807\n",
            "Number of empty values:\n",
            " * Event Description: 0\n",
            " * Year: 0\n",
            " * Date Event Began: 0\n",
            " * Time Event Began: 4\n",
            " * Date of Restoration: 8\n",
            " * Time of Restoration: 10\n",
            " * Respondent: 0\n",
            " * Geographic Areas: 2\n",
            " * NERC Region: 0\n",
            " * Demand Loss (MW): 0\n",
            " * Number of Customers Affected: 56\n",
            " * Tags: 1\n"
          ]
        }
      ]
    },
    {
      "metadata": {
        "_uuid": "ec297283740e22ced9553146d0e9c0ad57e11e47",
        "id": "Kt_lgN8PCj_A"
      },
      "cell_type": "markdown",
      "source": [
        "We now have very few columns left with 'None' values, we can just remove these rows."
      ]
    },
    {
      "metadata": {
        "ExecuteTime": {
          "end_time": "2018-04-20T20:10:46.529209Z",
          "start_time": "2018-04-20T20:10:46.390209Z"
        },
        "collapsed": true,
        "trusted": false,
        "_uuid": "f46585c248a8d8f4d8d8adc4978bc688289a5493",
        "id": "WGM_6UA-Cj_A"
      },
      "cell_type": "code",
      "source": [
        "dataset = dataset.dropna()"
      ],
      "execution_count": 48,
      "outputs": []
    },
    {
      "metadata": {
        "_uuid": "e397358578bac890c177c9a4f729b764b59f3c01",
        "id": "I0_wDGUnCj_A"
      },
      "cell_type": "markdown",
      "source": [
        "Despite \"Event Description\" being a very interesting column, we don't need it, since it tells the same story as \"Tags\" (which is simplified):"
      ]
    },
    {
      "metadata": {
        "ExecuteTime": {
          "end_time": "2018-04-20T20:10:46.671209Z",
          "start_time": "2018-04-20T20:10:46.533209Z"
        },
        "collapsed": true,
        "trusted": false,
        "_uuid": "fc25831461067496bbcaa17a486f083e742b9906",
        "id": "2VuIdWawCj_A"
      },
      "cell_type": "code",
      "source": [
        "dataset = dataset[dataset.columns.difference(['Event Description'])]"
      ],
      "execution_count": 49,
      "outputs": []
    },
    {
      "metadata": {
        "_uuid": "716c462a52c138f8e2c28e25804e2e496a65e57d",
        "id": "WURWgTisCj_A"
      },
      "cell_type": "markdown",
      "source": [
        "We can now check if our data is properly cleaned:"
      ]
    },
    {
      "metadata": {
        "ExecuteTime": {
          "end_time": "2018-04-20T20:26:20.122556Z",
          "start_time": "2018-04-20T20:26:20.109555Z"
        },
        "collapsed": true,
        "trusted": false,
        "_uuid": "97cbebc77af57938cf641a38ffa6e5fb0ed72194",
        "colab": {
          "base_uri": "https://localhost:8080/"
        },
        "id": "sbhrmbCuCj_A",
        "outputId": "037a6d5d-84f5-4564-947b-66643f55d722"
      },
      "cell_type": "code",
      "source": [
        "print(\"Total number of rows: \" + str(len(dataset.index)))\n",
        "print(\"Number of empty values:\")\n",
        "for column in dataset.columns:\n",
        "    print(\" * \" + column + \": \" + str(dataset[column].isnull().sum()))"
      ],
      "execution_count": 53,
      "outputs": [
        {
          "output_type": "stream",
          "name": "stdout",
          "text": [
            "Total number of rows: 739\n",
            "Number of empty values:\n",
            " * Date Event Began: 0\n",
            " * Date of Restoration: 1\n",
            " * Demand Loss (MW): 0\n",
            " * Geographic Areas: 0\n",
            " * NERC Region: 0\n",
            " * Number of Customers Affected: 0\n",
            " * Respondent: 0\n",
            " * Tags: 0\n",
            " * Time Event Began: 0\n",
            " * Time of Restoration: 1\n",
            " * Year: 0\n"
          ]
        }
      ]
    },
    {
      "metadata": {
        "_uuid": "b12ceb134f6eb38bdaf90b1e9568c11ea189a352",
        "id": "A5jwCQH5Cj_B"
      },
      "cell_type": "markdown",
      "source": [
        "It is! The new size of our dataset is 797 (down from 1652). We lost quite a lot of data (a little bit over 50%), but it should be enough for our analysis. Before proceeding, let's take a last quick look at it:"
      ]
    },
    {
      "metadata": {
        "ExecuteTime": {
          "end_time": "2018-04-20T20:26:22.742818Z",
          "start_time": "2018-04-20T20:26:22.726816Z"
        },
        "trusted": false,
        "_uuid": "c73eba7a1233377f7b6f697e76a750bb146f9ec4",
        "id": "btc1AbJbCj_B"
      },
      "cell_type": "code",
      "source": [
        "dataset.head()"
      ],
      "execution_count": null,
      "outputs": []
    },
    {
      "cell_type": "code",
      "source": [
        "dataset.replace('Unknown', np.nan, inplace=True)\n",
        "dataset.replace('Ongoing', np.nan, inplace=True)"
      ],
      "metadata": {
        "id": "vXFRZ6HEn2-c"
      },
      "execution_count": 52,
      "outputs": []
    },
    {
      "cell_type": "code",
      "source": [
        "dataset.isnull().any()"
      ],
      "metadata": {
        "colab": {
          "base_uri": "https://localhost:8080/",
          "height": 429
        },
        "id": "qWVnMpVmomZq",
        "outputId": "6393cdf8-418a-4ac2-e213-742e22ee65dc"
      },
      "execution_count": 54,
      "outputs": [
        {
          "output_type": "execute_result",
          "data": {
            "text/plain": [
              "Date Event Began                False\n",
              "Date of Restoration              True\n",
              "Demand Loss (MW)                False\n",
              "Geographic Areas                False\n",
              "NERC Region                     False\n",
              "Number of Customers Affected    False\n",
              "Respondent                      False\n",
              "Tags                            False\n",
              "Time Event Began                False\n",
              "Time of Restoration              True\n",
              "Year                            False\n",
              "dtype: bool"
            ],
            "text/html": [
              "<div>\n",
              "<style scoped>\n",
              "    .dataframe tbody tr th:only-of-type {\n",
              "        vertical-align: middle;\n",
              "    }\n",
              "\n",
              "    .dataframe tbody tr th {\n",
              "        vertical-align: top;\n",
              "    }\n",
              "\n",
              "    .dataframe thead th {\n",
              "        text-align: right;\n",
              "    }\n",
              "</style>\n",
              "<table border=\"1\" class=\"dataframe\">\n",
              "  <thead>\n",
              "    <tr style=\"text-align: right;\">\n",
              "      <th></th>\n",
              "      <th>0</th>\n",
              "    </tr>\n",
              "  </thead>\n",
              "  <tbody>\n",
              "    <tr>\n",
              "      <th>Date Event Began</th>\n",
              "      <td>False</td>\n",
              "    </tr>\n",
              "    <tr>\n",
              "      <th>Date of Restoration</th>\n",
              "      <td>True</td>\n",
              "    </tr>\n",
              "    <tr>\n",
              "      <th>Demand Loss (MW)</th>\n",
              "      <td>False</td>\n",
              "    </tr>\n",
              "    <tr>\n",
              "      <th>Geographic Areas</th>\n",
              "      <td>False</td>\n",
              "    </tr>\n",
              "    <tr>\n",
              "      <th>NERC Region</th>\n",
              "      <td>False</td>\n",
              "    </tr>\n",
              "    <tr>\n",
              "      <th>Number of Customers Affected</th>\n",
              "      <td>False</td>\n",
              "    </tr>\n",
              "    <tr>\n",
              "      <th>Respondent</th>\n",
              "      <td>False</td>\n",
              "    </tr>\n",
              "    <tr>\n",
              "      <th>Tags</th>\n",
              "      <td>False</td>\n",
              "    </tr>\n",
              "    <tr>\n",
              "      <th>Time Event Began</th>\n",
              "      <td>False</td>\n",
              "    </tr>\n",
              "    <tr>\n",
              "      <th>Time of Restoration</th>\n",
              "      <td>True</td>\n",
              "    </tr>\n",
              "    <tr>\n",
              "      <th>Year</th>\n",
              "      <td>False</td>\n",
              "    </tr>\n",
              "  </tbody>\n",
              "</table>\n",
              "</div><br><label><b>dtype:</b> bool</label>"
            ]
          },
          "metadata": {},
          "execution_count": 54
        }
      ]
    },
    {
      "cell_type": "code",
      "source": [
        "print(\"Total number of rows: \" + str(len(dataset.index)))\n",
        "print(\"Number of empty values:\")\n",
        "for column in dataset.columns:\n",
        "    print(\" * \" + column + \": \" + str(dataset[column].isnull().sum()))"
      ],
      "metadata": {
        "colab": {
          "base_uri": "https://localhost:8080/"
        },
        "id": "SAGdvvmAo0t1",
        "outputId": "dd10bab0-44c8-4660-bde2-87b41449b85b"
      },
      "execution_count": 55,
      "outputs": [
        {
          "output_type": "stream",
          "name": "stdout",
          "text": [
            "Total number of rows: 739\n",
            "Number of empty values:\n",
            " * Date Event Began: 0\n",
            " * Date of Restoration: 1\n",
            " * Demand Loss (MW): 0\n",
            " * Geographic Areas: 0\n",
            " * NERC Region: 0\n",
            " * Number of Customers Affected: 0\n",
            " * Respondent: 0\n",
            " * Tags: 0\n",
            " * Time Event Began: 0\n",
            " * Time of Restoration: 1\n",
            " * Year: 0\n"
          ]
        }
      ]
    },
    {
      "metadata": {
        "ExecuteTime": {
          "end_time": "2018-04-20T16:16:07.432175Z",
          "start_time": "2018-04-20T16:16:07.429175Z"
        },
        "_uuid": "df280b7861d6bbbefe12b54c7149e2eec22dd236",
        "id": "Ngw0ZTunCj_M"
      },
      "cell_type": "markdown",
      "source": [
        "# 2. Data analysis"
      ]
    },
    {
      "cell_type": "code",
      "source": [
        "dataset.to_csv(\"outagedata_clean.csv\")"
      ],
      "metadata": {
        "id": "Lmb84C1sDQ92"
      },
      "execution_count": 21,
      "outputs": []
    },
    {
      "metadata": {
        "_uuid": "93018f2f3d200f46a197a8f79d75d029f2232f23",
        "id": "jbdmLVFRCj_M"
      },
      "cell_type": "markdown",
      "source": [
        "With our dataset properly cleaned, we can now take a look and see how it's distributed (and how the columns relate to each other). A few interesting plots comes to mind:\n",
        " * Year and Tags\n",
        " * Demand Loss (MW) and Year\n",
        " * Count of causes (Tags)\n",
        " * Count of occurrences per Year"
      ]
    },
    {
      "metadata": {
        "_uuid": "fb3bb1ebc123cbdbb99b2408ef18091262ec7690",
        "id": "p9YErfAJCj_M"
      },
      "cell_type": "markdown",
      "source": [
        "It's a little too soon for feature engineering, but we should do a little more work on the Tags column before we proceed if we want to be able to do any meaningfull analysis. Since there are many different values, it could be a good idea to rebrand all severe weather columns with just 'severe weather':"
      ]
    },
    {
      "metadata": {
        "ExecuteTime": {
          "end_time": "2018-04-20T20:41:02.551626Z",
          "start_time": "2018-04-20T20:41:02.542626Z"
        },
        "collapsed": true,
        "trusted": false,
        "_uuid": "e95a6cf79f95700cfd178c0d348a02896f59f742",
        "id": "FOWWslmYCj_M"
      },
      "cell_type": "code",
      "source": [
        "dataset.loc[dataset['Tags'].str.contains('severe weather', case=False), 'Tags'] = 'severe weather'"
      ],
      "execution_count": 22,
      "outputs": []
    },
    {
      "metadata": {
        "_uuid": "a6ebe7edd5cf08c5d562bea9a76f0105c7420b9e",
        "id": "oFFFAIVNCj_M"
      },
      "cell_type": "markdown",
      "source": [
        "We can now start the plots:"
      ]
    },
    {
      "metadata": {
        "ExecuteTime": {
          "end_time": "2018-04-20T20:26:29.018445Z",
          "start_time": "2018-04-20T20:26:27.830327Z"
        },
        "scrolled": false,
        "trusted": false,
        "_uuid": "dcecc934eaf944a83120f6eaeb302c6de7a7842b",
        "id": "dZsOCGb0Cj_M"
      },
      "cell_type": "code",
      "source": [
        "dim = (12, 30)\n",
        "fig, ax = plt.subplots(figsize=dim)\n",
        "sns.swarmplot(x=\"Year\", y=\"Tags\", ax=ax, data=dataset)"
      ],
      "execution_count": null,
      "outputs": []
    },
    {
      "metadata": {
        "ExecuteTime": {
          "end_time": "2018-04-20T20:37:34.732626Z",
          "start_time": "2018-04-20T20:37:31.475626Z"
        },
        "trusted": false,
        "_uuid": "7b79193c8f4873896244f45af8cd056fa49ef0aa",
        "id": "i8pbyK1lCj_N"
      },
      "cell_type": "code",
      "source": [
        "dim = (40, 10)\n",
        "fig, ax = plt.subplots(figsize=dim)\n",
        "demand_plot = sns.lmplot(x=\"Demand Loss (MW)\", y=\"Year\", data=dataset)\n",
        "\n",
        "for item in demand_plot.get_xticklabels():\n",
        "    item.set_rotation(45)"
      ],
      "execution_count": null,
      "outputs": []
    },
    {
      "metadata": {
        "ExecuteTime": {
          "end_time": "2018-04-20T20:28:34.569753Z",
          "start_time": "2018-04-20T20:28:33.843680Z"
        },
        "trusted": false,
        "_uuid": "2764d07020d3459e538fb8015e1151ed85cc0847",
        "id": "xzCdtvBOCj_N"
      },
      "cell_type": "code",
      "source": [
        "dim = (30, 10)\n",
        "fig, ax = plt.subplots(figsize=dim)\n",
        "tag_plot = sns.countplot(x=\"Tags\", ax=ax, data=dataset)\n",
        "\n",
        "for item in tag_plot.get_xticklabels():\n",
        "    item.set_rotation(45)"
      ],
      "execution_count": null,
      "outputs": []
    },
    {
      "metadata": {
        "ExecuteTime": {
          "end_time": "2018-04-20T20:20:51.943904Z",
          "start_time": "2018-04-20T20:20:51.621878Z"
        },
        "trusted": false,
        "_uuid": "545abf403dd38041930bf73859d725fc8de565b5",
        "id": "nPBMx04tCj_N"
      },
      "cell_type": "code",
      "source": [
        "dim = (20, 10)\n",
        "fig, ax = plt.subplots(figsize=dim)\n",
        "sns.countplot(x=\"Year\", ax=ax, data=dataset)"
      ],
      "execution_count": null,
      "outputs": []
    },
    {
      "metadata": {
        "_uuid": "5333679c0a2bda6da2792aadccf6880e3de39e28",
        "id": "_UaPnb-MCj_N"
      },
      "cell_type": "markdown",
      "source": [
        "From the plots we made, we can tell a few things about power outages:\n",
        " * Outages due to severe weather are common almost every year, and is by far the biggest cause in outages.\n",
        " * We had a pretty bad year at 2011, but it eventually got better.\n",
        " * As times goes by, demand loss increases, even if we have less outages (which is expected, since there are more people on the grid)\n",
        "\n",
        "Since there are so many severe weather occurrences, it may not be worth to keep the Tags column; we can't make any meaningful prediction with it, since we don't have the number of times that severe weather doesn't cause an outage.\n",
        "\n",
        "With that in mind, what is left for us to analyze? Well, we have a few options:\n",
        " * Build a regression model to predict demand loss.\n",
        " * Build a regression to predict the duration of an outage.\n",
        " * Build a classifier to predict what part of the day (e.g. morning, afternoon, night, etc) or month of the year outages are more likely to occur.\n",
        " * Find out which respondents solve outages faster.\n",
        " * Only use data which has number of customers affected known, and find the relation between this data and the other features."
      ]
    },
    {
      "cell_type": "markdown",
      "source": [
        "# ADDITIONAL CODE AND WORK"
      ],
      "metadata": {
        "id": "8y-Map3Im3lQ"
      }
    },
    {
      "cell_type": "code",
      "source": [
        "from sklearn.preprocessing import LabelEncoder\n",
        "from sklearn.metrics import accuracy_score, confusion_matrix, r2_score, mean_squared_error\n",
        "from sklearn.model_selection import train_test_split\n",
        "from sklearn.model_selection import GridSearchCV\n",
        "\n",
        "from sklearn.svm import SVR\n",
        "from sklearn.linear_model import ElasticNet\n",
        "from sklearn.tree import DecisionTreeRegressor\n",
        "from sklearn.linear_model import BayesianRidge\n",
        "from sklearn.neighbors import KNeighborsRegressor"
      ],
      "metadata": {
        "id": "LqHlGUCmm2A0"
      },
      "execution_count": 32,
      "outputs": []
    }
  ],
  "metadata": {
    "kernelspec": {
      "display_name": "Python 3",
      "language": "python",
      "name": "python3"
    },
    "language_info": {
      "name": "python",
      "version": "3.6.4",
      "mimetype": "text/x-python",
      "codemirror_mode": {
        "name": "ipython",
        "version": 3
      },
      "pygments_lexer": "ipython3",
      "nbconvert_exporter": "python",
      "file_extension": ".py"
    },
    "varInspector": {
      "cols": {
        "lenName": 16,
        "lenType": 16,
        "lenVar": 40
      },
      "kernels_config": {
        "python": {
          "delete_cmd_postfix": "",
          "delete_cmd_prefix": "del ",
          "library": "var_list.py",
          "varRefreshCmd": "print(var_dic_list())"
        },
        "r": {
          "delete_cmd_postfix": ") ",
          "delete_cmd_prefix": "rm(",
          "library": "var_list.r",
          "varRefreshCmd": "cat(var_dic_list()) "
        }
      },
      "types_to_exclude": [
        "module",
        "function",
        "builtin_function_or_method",
        "instance",
        "_Feature"
      ],
      "window_display": false
    },
    "colab": {
      "provenance": [],
      "include_colab_link": true
    }
  },
  "nbformat": 4,
  "nbformat_minor": 0
}